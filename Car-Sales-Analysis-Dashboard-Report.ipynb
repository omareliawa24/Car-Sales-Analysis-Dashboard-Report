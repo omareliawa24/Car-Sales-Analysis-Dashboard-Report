{
 "cells": [
  {
   "cell_type": "markdown",
   "id": "8721da58-03cd-421a-84f5-f4b97594d553",
   "metadata": {},
   "source": [
    "# Data Cleaning in Pandas"
   ]
  },
  {
   "cell_type": "code",
   "execution_count": 108,
   "id": "2b6006ab-4789-464a-bb80-0603eea35e98",
   "metadata": {},
   "outputs": [],
   "source": [
    "import pandas as pd\n",
    "import numpy as np\n",
    "import matplotlib.pyplot as plt \n",
    "import seaborn as sns\n",
    "import datetime\n",
    "import math"
   ]
  },
  {
   "cell_type": "code",
   "execution_count": 109,
   "id": "d43931c1-2e60-461f-b44c-5b7a657220e8",
   "metadata": {},
   "outputs": [
    {
     "data": {
      "text/html": [
       "<div>\n",
       "<style scoped>\n",
       "    .dataframe tbody tr th:only-of-type {\n",
       "        vertical-align: middle;\n",
       "    }\n",
       "\n",
       "    .dataframe tbody tr th {\n",
       "        vertical-align: top;\n",
       "    }\n",
       "\n",
       "    .dataframe thead th {\n",
       "        text-align: right;\n",
       "    }\n",
       "</style>\n",
       "<table border=\"1\" class=\"dataframe\">\n",
       "  <thead>\n",
       "    <tr style=\"text-align: right;\">\n",
       "      <th></th>\n",
       "      <th>Car_id</th>\n",
       "      <th>Date</th>\n",
       "      <th>Customer Name</th>\n",
       "      <th>Gender</th>\n",
       "      <th>Annual Income</th>\n",
       "      <th>Dealer_Name</th>\n",
       "      <th>Company</th>\n",
       "      <th>Model</th>\n",
       "      <th>Engine</th>\n",
       "      <th>Transmission</th>\n",
       "      <th>Color</th>\n",
       "      <th>Price ($)</th>\n",
       "      <th>Dealer_No</th>\n",
       "      <th>Body Style</th>\n",
       "      <th>Phone</th>\n",
       "      <th>Dealer_Region</th>\n",
       "    </tr>\n",
       "  </thead>\n",
       "  <tbody>\n",
       "    <tr>\n",
       "      <th>0</th>\n",
       "      <td>C_CND_000001</td>\n",
       "      <td>2022-01-02</td>\n",
       "      <td>Geraldine</td>\n",
       "      <td>Male</td>\n",
       "      <td>13500</td>\n",
       "      <td>Buddy Storbeck's Diesel Service Inc</td>\n",
       "      <td>Ford</td>\n",
       "      <td>Expedition</td>\n",
       "      <td>DoubleÂ Overhead Camshaft</td>\n",
       "      <td>Auto</td>\n",
       "      <td>Black</td>\n",
       "      <td>26000</td>\n",
       "      <td>06457-3834</td>\n",
       "      <td>SUV</td>\n",
       "      <td>8264678</td>\n",
       "      <td>Middletown</td>\n",
       "    </tr>\n",
       "    <tr>\n",
       "      <th>1</th>\n",
       "      <td>C_CND_000002</td>\n",
       "      <td>2022-01-02</td>\n",
       "      <td>Gia</td>\n",
       "      <td>Male</td>\n",
       "      <td>1480000</td>\n",
       "      <td>C &amp; M Motors Inc</td>\n",
       "      <td>Dodge</td>\n",
       "      <td>Durango</td>\n",
       "      <td>DoubleÂ Overhead Camshaft</td>\n",
       "      <td>Auto</td>\n",
       "      <td>Black</td>\n",
       "      <td>19000</td>\n",
       "      <td>60504-7114</td>\n",
       "      <td>SUV</td>\n",
       "      <td>6848189</td>\n",
       "      <td>Aurora</td>\n",
       "    </tr>\n",
       "    <tr>\n",
       "      <th>2</th>\n",
       "      <td>C_CND_000003</td>\n",
       "      <td>2022-01-02</td>\n",
       "      <td>Gianna</td>\n",
       "      <td>Male</td>\n",
       "      <td>1035000</td>\n",
       "      <td>Capitol KIA</td>\n",
       "      <td>Cadillac</td>\n",
       "      <td>Eldorado</td>\n",
       "      <td>Overhead Camshaft</td>\n",
       "      <td>Manual</td>\n",
       "      <td>Red</td>\n",
       "      <td>31500</td>\n",
       "      <td>38701-8047</td>\n",
       "      <td>Passenger</td>\n",
       "      <td>7298798</td>\n",
       "      <td>Greenville</td>\n",
       "    </tr>\n",
       "    <tr>\n",
       "      <th>3</th>\n",
       "      <td>C_CND_000004</td>\n",
       "      <td>2022-01-02</td>\n",
       "      <td>Giselle</td>\n",
       "      <td>Male</td>\n",
       "      <td>13500</td>\n",
       "      <td>Chrysler of Tri-Cities</td>\n",
       "      <td>Toyota</td>\n",
       "      <td>Celica</td>\n",
       "      <td>Overhead Camshaft</td>\n",
       "      <td>Manual</td>\n",
       "      <td>Pale White</td>\n",
       "      <td>14000</td>\n",
       "      <td>99301-3882</td>\n",
       "      <td>SUV</td>\n",
       "      <td>6257557</td>\n",
       "      <td>Pasco</td>\n",
       "    </tr>\n",
       "    <tr>\n",
       "      <th>4</th>\n",
       "      <td>C_CND_000005</td>\n",
       "      <td>2022-01-02</td>\n",
       "      <td>Grace</td>\n",
       "      <td>Male</td>\n",
       "      <td>1465000</td>\n",
       "      <td>Chrysler Plymouth</td>\n",
       "      <td>Acura</td>\n",
       "      <td>TL</td>\n",
       "      <td>DoubleÂ Overhead Camshaft</td>\n",
       "      <td>Auto</td>\n",
       "      <td>Red</td>\n",
       "      <td>24500</td>\n",
       "      <td>53546-9427</td>\n",
       "      <td>Hatchback</td>\n",
       "      <td>7081483</td>\n",
       "      <td>Janesville</td>\n",
       "    </tr>\n",
       "    <tr>\n",
       "      <th>...</th>\n",
       "      <td>...</td>\n",
       "      <td>...</td>\n",
       "      <td>...</td>\n",
       "      <td>...</td>\n",
       "      <td>...</td>\n",
       "      <td>...</td>\n",
       "      <td>...</td>\n",
       "      <td>...</td>\n",
       "      <td>...</td>\n",
       "      <td>...</td>\n",
       "      <td>...</td>\n",
       "      <td>...</td>\n",
       "      <td>...</td>\n",
       "      <td>...</td>\n",
       "      <td>...</td>\n",
       "      <td>...</td>\n",
       "    </tr>\n",
       "    <tr>\n",
       "      <th>23901</th>\n",
       "      <td>C_CND_023902</td>\n",
       "      <td>2023-12-31</td>\n",
       "      <td>Martin</td>\n",
       "      <td>Male</td>\n",
       "      <td>13500</td>\n",
       "      <td>C &amp; M Motors Inc</td>\n",
       "      <td>Plymouth</td>\n",
       "      <td>Voyager</td>\n",
       "      <td>Overhead Camshaft</td>\n",
       "      <td>Manual</td>\n",
       "      <td>Red</td>\n",
       "      <td>12000</td>\n",
       "      <td>60504-7114</td>\n",
       "      <td>Passenger</td>\n",
       "      <td>8583598</td>\n",
       "      <td>Pasco</td>\n",
       "    </tr>\n",
       "    <tr>\n",
       "      <th>23902</th>\n",
       "      <td>C_CND_023903</td>\n",
       "      <td>2023-12-31</td>\n",
       "      <td>Jimmy</td>\n",
       "      <td>Female</td>\n",
       "      <td>900000</td>\n",
       "      <td>Ryder Truck Rental and Leasing</td>\n",
       "      <td>Chevrolet</td>\n",
       "      <td>Prizm</td>\n",
       "      <td>DoubleÂ Overhead Camshaft</td>\n",
       "      <td>Auto</td>\n",
       "      <td>Black</td>\n",
       "      <td>16000</td>\n",
       "      <td>06457-3834</td>\n",
       "      <td>Hardtop</td>\n",
       "      <td>7914229</td>\n",
       "      <td>Middletown</td>\n",
       "    </tr>\n",
       "    <tr>\n",
       "      <th>23903</th>\n",
       "      <td>C_CND_023904</td>\n",
       "      <td>2023-12-31</td>\n",
       "      <td>Emma</td>\n",
       "      <td>Male</td>\n",
       "      <td>705000</td>\n",
       "      <td>Chrysler of Tri-Cities</td>\n",
       "      <td>BMW</td>\n",
       "      <td>328i</td>\n",
       "      <td>Overhead Camshaft</td>\n",
       "      <td>Manual</td>\n",
       "      <td>Red</td>\n",
       "      <td>21000</td>\n",
       "      <td>99301-3882</td>\n",
       "      <td>Sedan</td>\n",
       "      <td>7659127</td>\n",
       "      <td>Scottsdale</td>\n",
       "    </tr>\n",
       "    <tr>\n",
       "      <th>23904</th>\n",
       "      <td>C_CND_023905</td>\n",
       "      <td>2023-12-31</td>\n",
       "      <td>Victoire</td>\n",
       "      <td>Male</td>\n",
       "      <td>13500</td>\n",
       "      <td>Chrysler Plymouth</td>\n",
       "      <td>Chevrolet</td>\n",
       "      <td>Metro</td>\n",
       "      <td>DoubleÂ Overhead Camshaft</td>\n",
       "      <td>Auto</td>\n",
       "      <td>Black</td>\n",
       "      <td>31000</td>\n",
       "      <td>53546-9427</td>\n",
       "      <td>Passenger</td>\n",
       "      <td>6030764</td>\n",
       "      <td>Austin</td>\n",
       "    </tr>\n",
       "    <tr>\n",
       "      <th>23905</th>\n",
       "      <td>C_CND_023906</td>\n",
       "      <td>2023-12-31</td>\n",
       "      <td>Donovan</td>\n",
       "      <td>Male</td>\n",
       "      <td>1225000</td>\n",
       "      <td>Pars Auto Sales</td>\n",
       "      <td>Lexus</td>\n",
       "      <td>ES300</td>\n",
       "      <td>DoubleÂ Overhead Camshaft</td>\n",
       "      <td>Auto</td>\n",
       "      <td>Pale White</td>\n",
       "      <td>27500</td>\n",
       "      <td>38701-8047</td>\n",
       "      <td>Hardtop</td>\n",
       "      <td>7020564</td>\n",
       "      <td>Middletown</td>\n",
       "    </tr>\n",
       "  </tbody>\n",
       "</table>\n",
       "<p>23906 rows × 16 columns</p>\n",
       "</div>"
      ],
      "text/plain": [
       "             Car_id       Date Customer Name  Gender  Annual Income  \\\n",
       "0      C_CND_000001 2022-01-02     Geraldine    Male          13500   \n",
       "1      C_CND_000002 2022-01-02           Gia    Male        1480000   \n",
       "2      C_CND_000003 2022-01-02        Gianna    Male        1035000   \n",
       "3      C_CND_000004 2022-01-02       Giselle    Male          13500   \n",
       "4      C_CND_000005 2022-01-02         Grace    Male        1465000   \n",
       "...             ...        ...           ...     ...            ...   \n",
       "23901  C_CND_023902 2023-12-31        Martin    Male          13500   \n",
       "23902  C_CND_023903 2023-12-31         Jimmy  Female         900000   \n",
       "23903  C_CND_023904 2023-12-31          Emma    Male         705000   \n",
       "23904  C_CND_023905 2023-12-31      Victoire    Male          13500   \n",
       "23905  C_CND_023906 2023-12-31       Donovan    Male        1225000   \n",
       "\n",
       "                               Dealer_Name    Company       Model  \\\n",
       "0      Buddy Storbeck's Diesel Service Inc       Ford  Expedition   \n",
       "1                         C & M Motors Inc      Dodge     Durango   \n",
       "2                              Capitol KIA   Cadillac    Eldorado   \n",
       "3                   Chrysler of Tri-Cities     Toyota      Celica   \n",
       "4                        Chrysler Plymouth      Acura          TL   \n",
       "...                                    ...        ...         ...   \n",
       "23901                     C & M Motors Inc   Plymouth     Voyager   \n",
       "23902       Ryder Truck Rental and Leasing  Chevrolet       Prizm   \n",
       "23903               Chrysler of Tri-Cities        BMW        328i   \n",
       "23904                    Chrysler Plymouth  Chevrolet       Metro   \n",
       "23905                      Pars Auto Sales      Lexus       ES300   \n",
       "\n",
       "                          Engine Transmission       Color  Price ($)  \\\n",
       "0      DoubleÂ Overhead Camshaft         Auto       Black      26000   \n",
       "1      DoubleÂ Overhead Camshaft         Auto       Black      19000   \n",
       "2              Overhead Camshaft       Manual         Red      31500   \n",
       "3              Overhead Camshaft       Manual  Pale White      14000   \n",
       "4      DoubleÂ Overhead Camshaft         Auto         Red      24500   \n",
       "...                          ...          ...         ...        ...   \n",
       "23901          Overhead Camshaft       Manual         Red      12000   \n",
       "23902  DoubleÂ Overhead Camshaft         Auto       Black      16000   \n",
       "23903          Overhead Camshaft       Manual         Red      21000   \n",
       "23904  DoubleÂ Overhead Camshaft         Auto       Black      31000   \n",
       "23905  DoubleÂ Overhead Camshaft         Auto  Pale White      27500   \n",
       "\n",
       "       Dealer_No  Body Style    Phone Dealer_Region  \n",
       "0      06457-3834        SUV  8264678    Middletown  \n",
       "1      60504-7114        SUV  6848189        Aurora  \n",
       "2      38701-8047  Passenger  7298798    Greenville  \n",
       "3      99301-3882        SUV  6257557         Pasco  \n",
       "4      53546-9427  Hatchback  7081483    Janesville  \n",
       "...           ...        ...      ...           ...  \n",
       "23901  60504-7114  Passenger  8583598         Pasco  \n",
       "23902  06457-3834    Hardtop  7914229    Middletown  \n",
       "23903  99301-3882      Sedan  7659127    Scottsdale  \n",
       "23904  53546-9427  Passenger  6030764        Austin  \n",
       "23905  38701-8047    Hardtop  7020564    Middletown  \n",
       "\n",
       "[23906 rows x 16 columns]"
      ]
     },
     "execution_count": 109,
     "metadata": {},
     "output_type": "execute_result"
    }
   ],
   "source": [
    "Cars = pd.read_excel(r\"Car Sales.xlsx\")\n",
    "Cars"
   ]
  },
  {
   "cell_type": "code",
   "execution_count": 110,
   "id": "317ec708-be5a-4a0f-817e-79b900e5899e",
   "metadata": {},
   "outputs": [
    {
     "data": {
      "text/html": [
       "<div>\n",
       "<style scoped>\n",
       "    .dataframe tbody tr th:only-of-type {\n",
       "        vertical-align: middle;\n",
       "    }\n",
       "\n",
       "    .dataframe tbody tr th {\n",
       "        vertical-align: top;\n",
       "    }\n",
       "\n",
       "    .dataframe thead th {\n",
       "        text-align: right;\n",
       "    }\n",
       "</style>\n",
       "<table border=\"1\" class=\"dataframe\">\n",
       "  <thead>\n",
       "    <tr style=\"text-align: right;\">\n",
       "      <th></th>\n",
       "      <th>Car_id</th>\n",
       "      <th>Date</th>\n",
       "      <th>Customer Name</th>\n",
       "      <th>Gender</th>\n",
       "      <th>Annual Income</th>\n",
       "      <th>Dealer_Name</th>\n",
       "      <th>Company</th>\n",
       "      <th>Model</th>\n",
       "      <th>Engine</th>\n",
       "      <th>Transmission</th>\n",
       "      <th>Color</th>\n",
       "      <th>Price ($)</th>\n",
       "      <th>Dealer_No</th>\n",
       "      <th>Body Style</th>\n",
       "      <th>Phone</th>\n",
       "      <th>Dealer_Region</th>\n",
       "    </tr>\n",
       "  </thead>\n",
       "  <tbody>\n",
       "    <tr>\n",
       "      <th>0</th>\n",
       "      <td>C_CND_000001</td>\n",
       "      <td>2022-01-02</td>\n",
       "      <td>Geraldine</td>\n",
       "      <td>Male</td>\n",
       "      <td>13500</td>\n",
       "      <td>Buddy Storbeck's Diesel Service Inc</td>\n",
       "      <td>Ford</td>\n",
       "      <td>Expedition</td>\n",
       "      <td>DoubleÂ Overhead Camshaft</td>\n",
       "      <td>Auto</td>\n",
       "      <td>Black</td>\n",
       "      <td>26000</td>\n",
       "      <td>06457-3834</td>\n",
       "      <td>SUV</td>\n",
       "      <td>8264678</td>\n",
       "      <td>Middletown</td>\n",
       "    </tr>\n",
       "    <tr>\n",
       "      <th>1</th>\n",
       "      <td>C_CND_000002</td>\n",
       "      <td>2022-01-02</td>\n",
       "      <td>Gia</td>\n",
       "      <td>Male</td>\n",
       "      <td>1480000</td>\n",
       "      <td>C &amp; M Motors Inc</td>\n",
       "      <td>Dodge</td>\n",
       "      <td>Durango</td>\n",
       "      <td>DoubleÂ Overhead Camshaft</td>\n",
       "      <td>Auto</td>\n",
       "      <td>Black</td>\n",
       "      <td>19000</td>\n",
       "      <td>60504-7114</td>\n",
       "      <td>SUV</td>\n",
       "      <td>6848189</td>\n",
       "      <td>Aurora</td>\n",
       "    </tr>\n",
       "    <tr>\n",
       "      <th>2</th>\n",
       "      <td>C_CND_000003</td>\n",
       "      <td>2022-01-02</td>\n",
       "      <td>Gianna</td>\n",
       "      <td>Male</td>\n",
       "      <td>1035000</td>\n",
       "      <td>Capitol KIA</td>\n",
       "      <td>Cadillac</td>\n",
       "      <td>Eldorado</td>\n",
       "      <td>Overhead Camshaft</td>\n",
       "      <td>Manual</td>\n",
       "      <td>Red</td>\n",
       "      <td>31500</td>\n",
       "      <td>38701-8047</td>\n",
       "      <td>Passenger</td>\n",
       "      <td>7298798</td>\n",
       "      <td>Greenville</td>\n",
       "    </tr>\n",
       "    <tr>\n",
       "      <th>3</th>\n",
       "      <td>C_CND_000004</td>\n",
       "      <td>2022-01-02</td>\n",
       "      <td>Giselle</td>\n",
       "      <td>Male</td>\n",
       "      <td>13500</td>\n",
       "      <td>Chrysler of Tri-Cities</td>\n",
       "      <td>Toyota</td>\n",
       "      <td>Celica</td>\n",
       "      <td>Overhead Camshaft</td>\n",
       "      <td>Manual</td>\n",
       "      <td>Pale White</td>\n",
       "      <td>14000</td>\n",
       "      <td>99301-3882</td>\n",
       "      <td>SUV</td>\n",
       "      <td>6257557</td>\n",
       "      <td>Pasco</td>\n",
       "    </tr>\n",
       "    <tr>\n",
       "      <th>4</th>\n",
       "      <td>C_CND_000005</td>\n",
       "      <td>2022-01-02</td>\n",
       "      <td>Grace</td>\n",
       "      <td>Male</td>\n",
       "      <td>1465000</td>\n",
       "      <td>Chrysler Plymouth</td>\n",
       "      <td>Acura</td>\n",
       "      <td>TL</td>\n",
       "      <td>DoubleÂ Overhead Camshaft</td>\n",
       "      <td>Auto</td>\n",
       "      <td>Red</td>\n",
       "      <td>24500</td>\n",
       "      <td>53546-9427</td>\n",
       "      <td>Hatchback</td>\n",
       "      <td>7081483</td>\n",
       "      <td>Janesville</td>\n",
       "    </tr>\n",
       "    <tr>\n",
       "      <th>...</th>\n",
       "      <td>...</td>\n",
       "      <td>...</td>\n",
       "      <td>...</td>\n",
       "      <td>...</td>\n",
       "      <td>...</td>\n",
       "      <td>...</td>\n",
       "      <td>...</td>\n",
       "      <td>...</td>\n",
       "      <td>...</td>\n",
       "      <td>...</td>\n",
       "      <td>...</td>\n",
       "      <td>...</td>\n",
       "      <td>...</td>\n",
       "      <td>...</td>\n",
       "      <td>...</td>\n",
       "      <td>...</td>\n",
       "    </tr>\n",
       "    <tr>\n",
       "      <th>23901</th>\n",
       "      <td>C_CND_023902</td>\n",
       "      <td>2023-12-31</td>\n",
       "      <td>Martin</td>\n",
       "      <td>Male</td>\n",
       "      <td>13500</td>\n",
       "      <td>C &amp; M Motors Inc</td>\n",
       "      <td>Plymouth</td>\n",
       "      <td>Voyager</td>\n",
       "      <td>Overhead Camshaft</td>\n",
       "      <td>Manual</td>\n",
       "      <td>Red</td>\n",
       "      <td>12000</td>\n",
       "      <td>60504-7114</td>\n",
       "      <td>Passenger</td>\n",
       "      <td>8583598</td>\n",
       "      <td>Pasco</td>\n",
       "    </tr>\n",
       "    <tr>\n",
       "      <th>23902</th>\n",
       "      <td>C_CND_023903</td>\n",
       "      <td>2023-12-31</td>\n",
       "      <td>Jimmy</td>\n",
       "      <td>Female</td>\n",
       "      <td>900000</td>\n",
       "      <td>Ryder Truck Rental and Leasing</td>\n",
       "      <td>Chevrolet</td>\n",
       "      <td>Prizm</td>\n",
       "      <td>DoubleÂ Overhead Camshaft</td>\n",
       "      <td>Auto</td>\n",
       "      <td>Black</td>\n",
       "      <td>16000</td>\n",
       "      <td>06457-3834</td>\n",
       "      <td>Hardtop</td>\n",
       "      <td>7914229</td>\n",
       "      <td>Middletown</td>\n",
       "    </tr>\n",
       "    <tr>\n",
       "      <th>23903</th>\n",
       "      <td>C_CND_023904</td>\n",
       "      <td>2023-12-31</td>\n",
       "      <td>Emma</td>\n",
       "      <td>Male</td>\n",
       "      <td>705000</td>\n",
       "      <td>Chrysler of Tri-Cities</td>\n",
       "      <td>BMW</td>\n",
       "      <td>328i</td>\n",
       "      <td>Overhead Camshaft</td>\n",
       "      <td>Manual</td>\n",
       "      <td>Red</td>\n",
       "      <td>21000</td>\n",
       "      <td>99301-3882</td>\n",
       "      <td>Sedan</td>\n",
       "      <td>7659127</td>\n",
       "      <td>Scottsdale</td>\n",
       "    </tr>\n",
       "    <tr>\n",
       "      <th>23904</th>\n",
       "      <td>C_CND_023905</td>\n",
       "      <td>2023-12-31</td>\n",
       "      <td>Victoire</td>\n",
       "      <td>Male</td>\n",
       "      <td>13500</td>\n",
       "      <td>Chrysler Plymouth</td>\n",
       "      <td>Chevrolet</td>\n",
       "      <td>Metro</td>\n",
       "      <td>DoubleÂ Overhead Camshaft</td>\n",
       "      <td>Auto</td>\n",
       "      <td>Black</td>\n",
       "      <td>31000</td>\n",
       "      <td>53546-9427</td>\n",
       "      <td>Passenger</td>\n",
       "      <td>6030764</td>\n",
       "      <td>Austin</td>\n",
       "    </tr>\n",
       "    <tr>\n",
       "      <th>23905</th>\n",
       "      <td>C_CND_023906</td>\n",
       "      <td>2023-12-31</td>\n",
       "      <td>Donovan</td>\n",
       "      <td>Male</td>\n",
       "      <td>1225000</td>\n",
       "      <td>Pars Auto Sales</td>\n",
       "      <td>Lexus</td>\n",
       "      <td>ES300</td>\n",
       "      <td>DoubleÂ Overhead Camshaft</td>\n",
       "      <td>Auto</td>\n",
       "      <td>Pale White</td>\n",
       "      <td>27500</td>\n",
       "      <td>38701-8047</td>\n",
       "      <td>Hardtop</td>\n",
       "      <td>7020564</td>\n",
       "      <td>Middletown</td>\n",
       "    </tr>\n",
       "  </tbody>\n",
       "</table>\n",
       "<p>23906 rows × 16 columns</p>\n",
       "</div>"
      ],
      "text/plain": [
       "             Car_id       Date Customer Name  Gender  Annual Income  \\\n",
       "0      C_CND_000001 2022-01-02     Geraldine    Male          13500   \n",
       "1      C_CND_000002 2022-01-02           Gia    Male        1480000   \n",
       "2      C_CND_000003 2022-01-02        Gianna    Male        1035000   \n",
       "3      C_CND_000004 2022-01-02       Giselle    Male          13500   \n",
       "4      C_CND_000005 2022-01-02         Grace    Male        1465000   \n",
       "...             ...        ...           ...     ...            ...   \n",
       "23901  C_CND_023902 2023-12-31        Martin    Male          13500   \n",
       "23902  C_CND_023903 2023-12-31         Jimmy  Female         900000   \n",
       "23903  C_CND_023904 2023-12-31          Emma    Male         705000   \n",
       "23904  C_CND_023905 2023-12-31      Victoire    Male          13500   \n",
       "23905  C_CND_023906 2023-12-31       Donovan    Male        1225000   \n",
       "\n",
       "                               Dealer_Name    Company       Model  \\\n",
       "0      Buddy Storbeck's Diesel Service Inc       Ford  Expedition   \n",
       "1                         C & M Motors Inc      Dodge     Durango   \n",
       "2                              Capitol KIA   Cadillac    Eldorado   \n",
       "3                   Chrysler of Tri-Cities     Toyota      Celica   \n",
       "4                        Chrysler Plymouth      Acura          TL   \n",
       "...                                    ...        ...         ...   \n",
       "23901                     C & M Motors Inc   Plymouth     Voyager   \n",
       "23902       Ryder Truck Rental and Leasing  Chevrolet       Prizm   \n",
       "23903               Chrysler of Tri-Cities        BMW        328i   \n",
       "23904                    Chrysler Plymouth  Chevrolet       Metro   \n",
       "23905                      Pars Auto Sales      Lexus       ES300   \n",
       "\n",
       "                          Engine Transmission       Color  Price ($)  \\\n",
       "0      DoubleÂ Overhead Camshaft         Auto       Black      26000   \n",
       "1      DoubleÂ Overhead Camshaft         Auto       Black      19000   \n",
       "2              Overhead Camshaft       Manual         Red      31500   \n",
       "3              Overhead Camshaft       Manual  Pale White      14000   \n",
       "4      DoubleÂ Overhead Camshaft         Auto         Red      24500   \n",
       "...                          ...          ...         ...        ...   \n",
       "23901          Overhead Camshaft       Manual         Red      12000   \n",
       "23902  DoubleÂ Overhead Camshaft         Auto       Black      16000   \n",
       "23903          Overhead Camshaft       Manual         Red      21000   \n",
       "23904  DoubleÂ Overhead Camshaft         Auto       Black      31000   \n",
       "23905  DoubleÂ Overhead Camshaft         Auto  Pale White      27500   \n",
       "\n",
       "       Dealer_No  Body Style    Phone Dealer_Region  \n",
       "0      06457-3834        SUV  8264678    Middletown  \n",
       "1      60504-7114        SUV  6848189        Aurora  \n",
       "2      38701-8047  Passenger  7298798    Greenville  \n",
       "3      99301-3882        SUV  6257557         Pasco  \n",
       "4      53546-9427  Hatchback  7081483    Janesville  \n",
       "...           ...        ...      ...           ...  \n",
       "23901  60504-7114  Passenger  8583598         Pasco  \n",
       "23902  06457-3834    Hardtop  7914229    Middletown  \n",
       "23903  99301-3882      Sedan  7659127    Scottsdale  \n",
       "23904  53546-9427  Passenger  6030764        Austin  \n",
       "23905  38701-8047    Hardtop  7020564    Middletown  \n",
       "\n",
       "[23906 rows x 16 columns]"
      ]
     },
     "execution_count": 110,
     "metadata": {},
     "output_type": "execute_result"
    }
   ],
   "source": [
    "Cars = Cars.drop_duplicates()\n",
    "Cars"
   ]
  },
  {
   "cell_type": "code",
   "execution_count": 111,
   "id": "5203f5c4-3820-4081-bed6-eaebe2b54cd0",
   "metadata": {
    "scrolled": true
   },
   "outputs": [
    {
     "data": {
      "text/plain": [
       "Car_id           0\n",
       "Date             0\n",
       "Customer Name    1\n",
       "Gender           0\n",
       "Annual Income    0\n",
       "Dealer_Name      0\n",
       "Company          0\n",
       "Model            0\n",
       "Engine           0\n",
       "Transmission     0\n",
       "Color            0\n",
       "Price ($)        0\n",
       "Dealer_No        0\n",
       "Body Style       0\n",
       "Phone            0\n",
       "Dealer_Region    0\n",
       "dtype: int64"
      ]
     },
     "execution_count": 111,
     "metadata": {},
     "output_type": "execute_result"
    }
   ],
   "source": [
    "Cars.isna().sum()"
   ]
  },
  {
   "cell_type": "code",
   "execution_count": 112,
   "id": "295646be-f230-4083-b1d9-178451c085f4",
   "metadata": {},
   "outputs": [
    {
     "name": "stderr",
     "output_type": "stream",
     "text": [
      "C:\\Users\\omars\\AppData\\Local\\Temp\\ipykernel_20784\\2544020856.py:1: FutureWarning: A value is trying to be set on a copy of a DataFrame or Series through chained assignment using an inplace method.\n",
      "The behavior will change in pandas 3.0. This inplace method will never work because the intermediate object on which we are setting values always behaves as a copy.\n",
      "\n",
      "For example, when doing 'df[col].method(value, inplace=True)', try using 'df.method({col: value}, inplace=True)' or df[col] = df[col].method(value) instead, to perform the operation inplace on the original object.\n",
      "\n",
      "\n",
      "  Cars['Customer Name'].fillna('Omar Saeed',inplace=True)\n"
     ]
    }
   ],
   "source": [
    "Cars['Customer Name'].fillna('Omar Saeed',inplace=True)"
   ]
  },
  {
   "cell_type": "code",
   "execution_count": 113,
   "id": "70718b0b-4fe4-4325-a896-8be6cb02d43d",
   "metadata": {},
   "outputs": [
    {
     "data": {
      "text/html": [
       "<div>\n",
       "<style scoped>\n",
       "    .dataframe tbody tr th:only-of-type {\n",
       "        vertical-align: middle;\n",
       "    }\n",
       "\n",
       "    .dataframe tbody tr th {\n",
       "        vertical-align: top;\n",
       "    }\n",
       "\n",
       "    .dataframe thead th {\n",
       "        text-align: right;\n",
       "    }\n",
       "</style>\n",
       "<table border=\"1\" class=\"dataframe\">\n",
       "  <thead>\n",
       "    <tr style=\"text-align: right;\">\n",
       "      <th></th>\n",
       "      <th>Date</th>\n",
       "      <th>Annual Income</th>\n",
       "      <th>Price ($)</th>\n",
       "      <th>Phone</th>\n",
       "    </tr>\n",
       "  </thead>\n",
       "  <tbody>\n",
       "    <tr>\n",
       "      <th>count</th>\n",
       "      <td>23906</td>\n",
       "      <td>2.390600e+04</td>\n",
       "      <td>23906.000000</td>\n",
       "      <td>2.390600e+04</td>\n",
       "    </tr>\n",
       "    <tr>\n",
       "      <th>mean</th>\n",
       "      <td>2023-03-01 14:28:10.822387456</td>\n",
       "      <td>8.308403e+05</td>\n",
       "      <td>28090.247846</td>\n",
       "      <td>7.497741e+06</td>\n",
       "    </tr>\n",
       "    <tr>\n",
       "      <th>min</th>\n",
       "      <td>2022-01-02 00:00:00</td>\n",
       "      <td>1.008000e+04</td>\n",
       "      <td>1200.000000</td>\n",
       "      <td>6.000101e+06</td>\n",
       "    </tr>\n",
       "    <tr>\n",
       "      <th>25%</th>\n",
       "      <td>2022-09-20 00:00:00</td>\n",
       "      <td>3.860000e+05</td>\n",
       "      <td>18001.000000</td>\n",
       "      <td>6.746495e+06</td>\n",
       "    </tr>\n",
       "    <tr>\n",
       "      <th>50%</th>\n",
       "      <td>2023-03-13 00:00:00</td>\n",
       "      <td>7.350000e+05</td>\n",
       "      <td>23000.000000</td>\n",
       "      <td>7.496198e+06</td>\n",
       "    </tr>\n",
       "    <tr>\n",
       "      <th>75%</th>\n",
       "      <td>2023-09-08 00:00:00</td>\n",
       "      <td>1.175750e+06</td>\n",
       "      <td>34000.000000</td>\n",
       "      <td>8.248146e+06</td>\n",
       "    </tr>\n",
       "    <tr>\n",
       "      <th>max</th>\n",
       "      <td>2023-12-31 00:00:00</td>\n",
       "      <td>1.120000e+07</td>\n",
       "      <td>85800.000000</td>\n",
       "      <td>8.999579e+06</td>\n",
       "    </tr>\n",
       "    <tr>\n",
       "      <th>std</th>\n",
       "      <td>NaN</td>\n",
       "      <td>7.200064e+05</td>\n",
       "      <td>14788.687608</td>\n",
       "      <td>8.674920e+05</td>\n",
       "    </tr>\n",
       "  </tbody>\n",
       "</table>\n",
       "</div>"
      ],
      "text/plain": [
       "                                Date  Annual Income     Price ($)  \\\n",
       "count                          23906   2.390600e+04  23906.000000   \n",
       "mean   2023-03-01 14:28:10.822387456   8.308403e+05  28090.247846   \n",
       "min              2022-01-02 00:00:00   1.008000e+04   1200.000000   \n",
       "25%              2022-09-20 00:00:00   3.860000e+05  18001.000000   \n",
       "50%              2023-03-13 00:00:00   7.350000e+05  23000.000000   \n",
       "75%              2023-09-08 00:00:00   1.175750e+06  34000.000000   \n",
       "max              2023-12-31 00:00:00   1.120000e+07  85800.000000   \n",
       "std                              NaN   7.200064e+05  14788.687608   \n",
       "\n",
       "              Phone  \n",
       "count  2.390600e+04  \n",
       "mean   7.497741e+06  \n",
       "min    6.000101e+06  \n",
       "25%    6.746495e+06  \n",
       "50%    7.496198e+06  \n",
       "75%    8.248146e+06  \n",
       "max    8.999579e+06  \n",
       "std    8.674920e+05  "
      ]
     },
     "execution_count": 113,
     "metadata": {},
     "output_type": "execute_result"
    }
   ],
   "source": [
    "Cars.describe()\n"
   ]
  },
  {
   "cell_type": "markdown",
   "id": "11423be6-30b7-47df-9f08-2bc9b0bc4859",
   "metadata": {},
   "source": [
    "# EDA in Pandas\n"
   ]
  },
  {
   "cell_type": "code",
   "execution_count": 114,
   "id": "6afa153c-834d-40dc-b12d-73d6830d8642",
   "metadata": {},
   "outputs": [
    {
     "name": "stdout",
     "output_type": "stream",
     "text": [
      "<class 'pandas.core.frame.DataFrame'>\n",
      "RangeIndex: 23906 entries, 0 to 23905\n",
      "Data columns (total 16 columns):\n",
      " #   Column         Non-Null Count  Dtype         \n",
      "---  ------         --------------  -----         \n",
      " 0   Car_id         23906 non-null  object        \n",
      " 1   Date           23906 non-null  datetime64[ns]\n",
      " 2   Customer Name  23906 non-null  object        \n",
      " 3   Gender         23906 non-null  object        \n",
      " 4   Annual Income  23906 non-null  int64         \n",
      " 5   Dealer_Name    23906 non-null  object        \n",
      " 6   Company        23906 non-null  object        \n",
      " 7   Model          23906 non-null  object        \n",
      " 8   Engine         23906 non-null  object        \n",
      " 9   Transmission   23906 non-null  object        \n",
      " 10  Color          23906 non-null  object        \n",
      " 11  Price ($)      23906 non-null  int64         \n",
      " 12  Dealer_No      23906 non-null  object        \n",
      " 13  Body Style     23906 non-null  object        \n",
      " 14  Phone          23906 non-null  int64         \n",
      " 15  Dealer_Region  23906 non-null  object        \n",
      "dtypes: datetime64[ns](1), int64(3), object(12)\n",
      "memory usage: 2.9+ MB\n"
     ]
    }
   ],
   "source": [
    "Cars.info()"
   ]
  },
  {
   "cell_type": "code",
   "execution_count": 115,
   "id": "2d261496-bf81-4ee5-afbc-bba6c7cb3721",
   "metadata": {},
   "outputs": [
    {
     "data": {
      "text/plain": [
       "Car_id           23906\n",
       "Date               612\n",
       "Customer Name     3022\n",
       "Gender               2\n",
       "Annual Income     2508\n",
       "Dealer_Name         28\n",
       "Company             30\n",
       "Model              154\n",
       "Engine               2\n",
       "Transmission         2\n",
       "Color                3\n",
       "Price ($)          870\n",
       "Dealer_No            7\n",
       "Body Style           5\n",
       "Phone            23804\n",
       "Dealer_Region        7\n",
       "dtype: int64"
      ]
     },
     "execution_count": 115,
     "metadata": {},
     "output_type": "execute_result"
    }
   ],
   "source": [
    "Cars.nunique()\n"
   ]
  },
  {
   "cell_type": "code",
   "execution_count": 116,
   "id": "9d1278ee-a321-475f-b29f-6e0ea4eacbe2",
   "metadata": {},
   "outputs": [
    {
     "data": {
      "text/plain": [
       "Car_id           23906\n",
       "Date             23906\n",
       "Customer Name    23906\n",
       "Gender           23906\n",
       "Annual Income    23906\n",
       "Dealer_Name      23906\n",
       "Company          23906\n",
       "Model            23906\n",
       "Engine           23906\n",
       "Transmission     23906\n",
       "Color            23906\n",
       "Price ($)        23906\n",
       "Dealer_No        23906\n",
       "Body Style       23906\n",
       "Phone            23906\n",
       "Dealer_Region    23906\n",
       "dtype: int64"
      ]
     },
     "execution_count": 116,
     "metadata": {},
     "output_type": "execute_result"
    }
   ],
   "source": [
    "Cars.count()"
   ]
  },
  {
   "cell_type": "code",
   "execution_count": 117,
   "id": "96ffbe6a-5be4-49eb-ad85-071e26d039e0",
   "metadata": {},
   "outputs": [],
   "source": [
    "Cars.to_csv('Cars.csv', index=False)"
   ]
  },
  {
   "cell_type": "code",
   "execution_count": 118,
   "id": "45154337-405b-4317-b530-0515c8435116",
   "metadata": {},
   "outputs": [],
   "source": [
    "Cars[\"Date\"] = pd.to_datetime(Cars[\"Date\"])"
   ]
  },
  {
   "cell_type": "code",
   "execution_count": 119,
   "id": "1d8cd229-6d14-4ed1-93f2-c503e2ca5683",
   "metadata": {},
   "outputs": [],
   "source": [
    "Co = Cars.groupby('Date')['Car_id'].count()"
   ]
  },
  {
   "cell_type": "code",
   "execution_count": 120,
   "id": "d9618c7c-ff38-4664-b8fe-dad206ca50b1",
   "metadata": {},
   "outputs": [
    {
     "data": {
      "text/plain": [
       "Date\n",
       "2022-01-02    35\n",
       "2022-01-03    20\n",
       "2022-01-04    15\n",
       "2022-01-05    30\n",
       "2022-01-06    10\n",
       "2022-01-09    20\n",
       "2022-01-10     5\n",
       "2022-01-12    30\n",
       "2022-01-13    20\n",
       "2022-01-17    20\n",
       "Name: Car_id, dtype: int64"
      ]
     },
     "execution_count": 120,
     "metadata": {},
     "output_type": "execute_result"
    }
   ],
   "source": [
    "Co.head(10)"
   ]
  },
  {
   "cell_type": "markdown",
   "id": "011ad52d-ca65-443f-b230-8580a72de1cf",
   "metadata": {},
   "source": [
    "# ⚠️ YTD Total Sales ⚠️  ✅"
   ]
  },
  {
   "cell_type": "code",
   "execution_count": 126,
   "id": "d41c5beb-b273-4920-900e-2113082fe266",
   "metadata": {},
   "outputs": [
    {
     "data": {
      "text/plain": [
       "371185120"
      ]
     },
     "execution_count": 126,
     "metadata": {},
     "output_type": "execute_result"
    }
   ],
   "source": [
    "Cars['Date'] = pd.to_datetime(Cars['Date'], format='%d-%m-%y')\n",
    "start_date = pd.Timestamp('2023-01-01')\n",
    "end_Date = pd.Timestamp.today()\n",
    "ytd_sales_data = Cars[(Cars['Date'] >= start_date) & (Cars['Date'] <= end_Date)]\n",
    "ytd_total_sales = ytd_sales_data['Price ($)'].sum()\n",
    "ytd_total_sales"
   ]
  },
  {
   "cell_type": "markdown",
   "id": "5094bfeb-9113-4fe5-a1d4-d2c488b9972b",
   "metadata": {},
   "source": [
    "# MTD Total Sales"
   ]
  },
  {
   "cell_type": "code",
   "execution_count": 143,
   "id": "768770b5-cd42-4899-959f-82765f0a5dee",
   "metadata": {},
   "outputs": [
    {
     "data": {
      "text/plain": [
       "371185120"
      ]
     },
     "execution_count": 143,
     "metadata": {},
     "output_type": "execute_result"
    }
   ],
   "source": [
    "current_month = pd.Timestamp.now().month\n",
    "Cars_current_month = Cars[Cars['Date'].dt.month ==current_month]\n",
    "MTD_Total_Price = Cars_current_year['Price ($)'].sum()\n",
    "    \n",
    "MTD_Total_Price"
   ]
  },
  {
   "cell_type": "markdown",
   "id": "d8a869bb-3b4c-481a-b2af-a9e89495b4ca",
   "metadata": {},
   "source": [
    "#  PYTD Total Sales"
   ]
  },
  {
   "cell_type": "code",
   "execution_count": 129,
   "id": "cd31efa1-498c-4cb8-aa70-e1996adfe2f4",
   "metadata": {},
   "outputs": [
    {
     "data": {
      "text/plain": [
       "106922689"
      ]
     },
     "execution_count": 129,
     "metadata": {},
     "output_type": "execute_result"
    }
   ],
   "source": [
    "current_date = pd.Timestamp.today()\n",
    "\n",
    "current_year_start = pd.Timestamp(current_date.year, 1, 1)\n",
    "\n",
    "\n",
    "previous_year_start = current_year_start - pd.DateOffset(years=1)\n",
    "previous_year_end = current_date - pd.DateOffset(years=1)\n",
    "\n",
    "pytd_sales_data = Cars[(Cars['Date'] >= previous_year_start) & (Cars['Date'] <= previous_year_end)]\n",
    "pytd_total_sales = pytd_sales_data['Price ($)'].sum()\n",
    "pytd_total_sales"
   ]
  },
  {
   "cell_type": "markdown",
   "id": "0bdb5c09-014d-47bc-bb43-973ddac90dd6",
   "metadata": {},
   "source": [
    "# YOY Growth in Average Price"
   ]
  },
  {
   "cell_type": "code",
   "execution_count": 130,
   "id": "b8edee97-042c-4068-bfbe-fddd8dc4869a",
   "metadata": {},
   "outputs": [
    {
     "data": {
      "text/plain": [
       "0.0"
      ]
     },
     "execution_count": 130,
     "metadata": {},
     "output_type": "execute_result"
    }
   ],
   "source": [
    "current_year = pd.Timestamp.now().year\n",
    "previous_year = current_year - 1\n",
    "Cars_previous_year = Cars[Cars['Date'].dt.year == previous_year]\n",
    "YTD_Price_Previous_Year = Cars_previous_year['Price ($)'].sum()\n",
    "YOY_Growth_Price = ((ytd_total_sales - YTD_Price_Previous_Year) / YTD_Price_Previous_Year) * 100\n",
    "YOY_Growth_Price\n",
    "\n"
   ]
  },
  {
   "cell_type": "markdown",
   "id": "adb03370-f2c6-4047-a2c7-621a65fbb4a4",
   "metadata": {},
   "source": [
    "# Difference between YTD Average Price and PTYD Average Price\n"
   ]
  },
  {
   "cell_type": "code",
   "execution_count": 131,
   "id": "15210f4f-c63a-426d-a329-34691335b6dd",
   "metadata": {},
   "outputs": [
    {
     "name": "stdout",
     "output_type": "stream",
     "text": [
      "Difference between YTD Sales and PTYD Sales: 264262431\n"
     ]
    }
   ],
   "source": [
    "# حساب الفرق بين مبيعات السنة الحالية والسنة اللي فاتت لنفس المدة\n",
    "difference_ytd_sales = ytd_total_sales - pytd_total_sales\n",
    "print(f'Difference between YTD Sales and PTYD Sales: {difference_ytd_sales}')\n"
   ]
  },
  {
   "cell_type": "markdown",
   "id": "4bd14cc0-d2be-4c8e-83c7-b5d27d2b56a3",
   "metadata": {},
   "source": [
    "# ⚠️ YTD Average Total Sales ⚠️\n"
   ]
  },
  {
   "cell_type": "code",
   "execution_count": 132,
   "id": "4b2c8d0a-16dd-4b3c-bc94-51cb94951134",
   "metadata": {},
   "outputs": [
    {
     "data": {
      "text/plain": [
       "28090.247845729107"
      ]
     },
     "execution_count": 132,
     "metadata": {},
     "output_type": "execute_result"
    }
   ],
   "source": [
    "Avg_Price_Sum = Cars['Price ($)'].sum()\n",
    "Avg_Price_Count = Cars['Price ($)'].count()\n",
    "Average_Price = Avg_Price_Sum / Avg_Price_Count\n",
    "Average_Price"
   ]
  },
  {
   "cell_type": "code",
   "execution_count": 133,
   "id": "ed5688e0-9c9b-47fa-a608-172780f7c597",
   "metadata": {},
   "outputs": [
    {
     "data": {
      "text/plain": [
       "27991.0"
      ]
     },
     "execution_count": 133,
     "metadata": {},
     "output_type": "execute_result"
    }
   ],
   "source": [
    "Cars['Date'] = pd.to_datetime(Cars['Date'], format='%d-%m-%y')\n",
    "current_year = pd.Timestamp.now().year-1\n",
    "Cars_current_year = Cars[Cars['Date'].dt.year ==current_year]\n",
    "YTD_Average_Price = Cars_current_year['Price ($)'].mean()\n",
    "if Cars_current_year.empty:\n",
    "    print(\"لم يتم العثور على سيارات في\", current_year)\n",
    "else:\n",
    "    YTD_Average_Price = Cars_current_year['Price ($)'].mean()\n",
    "YTD_Average_Price.round()"
   ]
  },
  {
   "cell_type": "markdown",
   "id": "c4414836-1bac-43a4-bcfe-2c964abc6cdb",
   "metadata": {},
   "source": [
    "# MTD Average Total Sales\n"
   ]
  },
  {
   "cell_type": "code",
   "execution_count": 134,
   "id": "7c522f50-2e1c-4185-9b59-636bd22e3aab",
   "metadata": {},
   "outputs": [
    {
     "data": {
      "text/plain": [
       "28283.324781341107"
      ]
     },
     "execution_count": 134,
     "metadata": {},
     "output_type": "execute_result"
    }
   ],
   "source": [
    "current_month = pd.Timestamp.now().month\n",
    "Cars_current_month = Cars[Cars['Date'].dt.month ==current_month]\n",
    "MTD_Average_Price = Cars_current_year['Price ($)'].mean()\n",
    "if Cars_current_month.empty:\n",
    "    print(\"لم يتم العثور على سيارات في\", current_year)\n",
    "else:\n",
    "    MTD_Average_Price = Cars_current_month['Price ($)'].mean()\n",
    "    \n",
    "MTD_Average_Price\n"
   ]
  },
  {
   "cell_type": "markdown",
   "id": "a08a4813-b78d-459c-a08d-85c0e9432776",
   "metadata": {},
   "source": [
    "# YOY Average Price Growth"
   ]
  },
  {
   "cell_type": "code",
   "execution_count": 135,
   "id": "5bf7bd80-e253-465d-a676-b0817f127926",
   "metadata": {},
   "outputs": [
    {
     "data": {
      "text/plain": [
       "0.0"
      ]
     },
     "execution_count": 135,
     "metadata": {},
     "output_type": "execute_result"
    }
   ],
   "source": [
    "current_year = pd.Timestamp.now().year\n",
    "previous_year = current_year - 1\n",
    "Cars_previous_year = Cars[Cars['Date'].dt.year == previous_year]\n",
    "YTD_Average_Price_Previous_Year = Cars_previous_year['Price ($)'].mean()\n",
    "YOY_Growth_Average_Price = ((YTD_Average_Price - YTD_Average_Price_Previous_Year) / YTD_Average_Price_Previous_Year) * 100\n",
    "YOY_Growth_Average_Price\n",
    "\n"
   ]
  },
  {
   "cell_type": "code",
   "execution_count": null,
   "id": "571f82ae-1020-4b48-a8a8-df9784d157a1",
   "metadata": {},
   "outputs": [],
   "source": []
  },
  {
   "cell_type": "markdown",
   "id": "2d7176e4-0223-48e8-992c-612eeddab580",
   "metadata": {},
   "source": [
    "#  ⚠️ YTD Cars Sold ⚠️  ✅"
   ]
  },
  {
   "cell_type": "code",
   "execution_count": 140,
   "id": "447fd96d-cb07-4b32-a353-243f4122e7e5",
   "metadata": {},
   "outputs": [
    {
     "data": {
      "text/plain": [
       "13261"
      ]
     },
     "execution_count": 140,
     "metadata": {},
     "output_type": "execute_result"
    }
   ],
   "source": [
    "Cars['Date'] = pd.to_datetime(Cars['Date'], format='%d-%m-%y')\n",
    "current_year = pd.Timestamp.now().year-1\n",
    "Cars_current_year = Cars[Cars['Date'].dt.year == current_year]\n",
    "ytd_cars_sold = Cars_current_year.shape[0]\n",
    "ytd_cars_sold"
   ]
  },
  {
   "cell_type": "markdown",
   "id": "e303a01d-6213-4b2d-be98-d4d81d59353d",
   "metadata": {},
   "source": [
    "# MTD Cars Sold "
   ]
  },
  {
   "cell_type": "code",
   "execution_count": 159,
   "id": "9ee05f27-9d4b-4461-91c8-3e28a4729ffc",
   "metadata": {},
   "outputs": [
    {
     "name": "stdout",
     "output_type": "stream",
     "text": [
      "MTD Cars Sold: 1025\n"
     ]
    }
   ],
   "source": [
    "current_month = pd.Timestamp.now().month \n",
    "Cars_current_month = Cars_current_year[Cars_current_year['Date'].dt.month == current_month]\n",
    "mtd_cars_sold = Cars_current_month.shape[0]\n",
    "print(f'MTD Cars Sold: {mtd_cars_sold}')\n"
   ]
  },
  {
   "cell_type": "markdown",
   "id": "4664a0fa-69e3-46c1-bf1e-3929fa4420b0",
   "metadata": {},
   "source": [
    "# YOY Growth in Cars Sold"
   ]
  },
  {
   "cell_type": "code",
   "execution_count": 152,
   "id": "8263a04c-069c-46f6-846e-9918f4f0f545",
   "metadata": {},
   "outputs": [
    {
     "data": {
      "text/plain": [
       "10645"
      ]
     },
     "execution_count": 152,
     "metadata": {},
     "output_type": "execute_result"
    }
   ],
   "source": [
    "previous_year = current_year-1 \n",
    "Cars_previous_year = Cars[Cars['Date'].dt.year == previous_year]\n",
    "ytd_cars_sold_previous_year = Cars_previous_year.shape[0]\n",
    "ytd_cars_sold_previous_year"
   ]
  },
  {
   "cell_type": "markdown",
   "id": "84f3d779-b980-419a-9c98-f21fc9a97ab3",
   "metadata": {},
   "source": [
    "#  Difference between YTD Cars Sold and PTYD Cars Sold\n"
   ]
  },
  {
   "cell_type": "code",
   "execution_count": 156,
   "id": "f0e1df8e-59d1-4861-af1d-fc295e7caa59",
   "metadata": {},
   "outputs": [
    {
     "data": {
      "text/plain": [
       "2616"
      ]
     },
     "execution_count": 156,
     "metadata": {},
     "output_type": "execute_result"
    }
   ],
   "source": [
    "difference_ytd_cars_sold = ytd_cars_sold - ytd_cars_sold_previous_year\n",
    "difference_ytd_cars_sold"
   ]
  },
  {
   "cell_type": "code",
   "execution_count": null,
   "id": "6ecbc580-046a-499a-8e46-0c21d2443eb0",
   "metadata": {},
   "outputs": [],
   "source": [
    "    "
   ]
  },
  {
   "cell_type": "code",
   "execution_count": null,
   "id": "1fb45ee8-1384-4ae8-817d-0cfd7a5f703a",
   "metadata": {},
   "outputs": [],
   "source": []
  },
  {
   "cell_type": "code",
   "execution_count": null,
   "id": "999dfbb1-da82-48a5-a89a-07645ba81648",
   "metadata": {},
   "outputs": [],
   "source": []
  }
 ],
 "metadata": {
  "kernelspec": {
   "display_name": "Python 3 (ipykernel)",
   "language": "python",
   "name": "python3"
  },
  "language_info": {
   "codemirror_mode": {
    "name": "ipython",
    "version": 3
   },
   "file_extension": ".py",
   "mimetype": "text/x-python",
   "name": "python",
   "nbconvert_exporter": "python",
   "pygments_lexer": "ipython3",
   "version": "3.12.2"
  }
 },
 "nbformat": 4,
 "nbformat_minor": 5
}
